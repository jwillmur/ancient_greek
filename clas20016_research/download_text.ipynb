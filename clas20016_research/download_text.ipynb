{
 "cells": [
  {
   "cell_type": "code",
   "execution_count": 1,
   "metadata": {},
   "outputs": [
    {
     "name": "stderr",
     "output_type": "stream",
     "text": [
      "/usr/lib/python3/dist-packages/requests/__init__.py:89: RequestsDependencyWarning: urllib3 (1.26.11) or chardet (3.0.4) doesn't match a supported version!\n",
      "  warnings.warn(\"urllib3 ({}) or chardet ({}) doesn't match a supported \"\n"
     ]
    }
   ],
   "source": [
    "## built-in imports\n",
    "import json\n",
    "import pandas as pd\n",
    "import time\n",
    "\n",
    "from collections import defaultdict\n",
    "\n",
    "## user packages\n",
    "from bs4 import BeautifulSoup\n",
    "from urllib.request import urlopen\n",
    "import requests"
   ]
  },
  {
   "cell_type": "code",
   "execution_count": 2,
   "metadata": {},
   "outputs": [],
   "source": [
    "## constants\n",
    "base_url = \"https://www.sacred-texts.com/cla/homer/greek/ody\"\n",
    "n_books = range(1, 25)\n",
    "\n",
    "headers = {\"User-Agent\": \"Mozilla/5.0 (X11; CrOS x86_64 12871.102.0) AppleWebKit/537.36 (KHTML, like Gecko) Chrome/81.0.4044.141 Safari/537.36\"}"
   ]
  },
  {
   "cell_type": "code",
   "execution_count": 5,
   "metadata": {},
   "outputs": [
    {
     "name": "stdout",
     "output_type": "stream",
     "text": [
      "<p>ἄνδρα μοι ἔννεπε, μοῦσα, πολύτροπον, ὃς μάλα πολλὰ</p>\n",
      "<p>ἦμος δ' ἠριγένεια φάνη ῥοδοδάκτυλος Ἠώς,</p>\n",
      "<p>Ἠέλιος δ' ἀνόρουσε, λιπὼν περικαλλέα λίμνην,</p>\n",
      "<p>οἱ δ' ἷξον κοίλην Λακεδαίμονα κητώεσσαν,</p>\n",
      "<p>Ἠὼς δ' ἐκ λεχέων παρ' ἀγαυοῦ Τιθωνοῖο</p>\n",
      "<p>ὣς ὁ μὲν ἔνθα καθεῦδε πολύτλας δῖος Ὀδυσσεὺς</p>\n",
      "<p>ὧς ὁ μὲν ἔνθ' ἠρᾶτο πολύτλας δῖος Ὀδυσσεύς,</p>\n",
      "<p>ἦμος δ' ἠριγένεια φάνη ῥοδοδάκτυλος Ἠώς,</p>\n",
      "<p>τὸν δ' ἀπαμειβόμενος προσέφη πολύμητις Ὀδυσσεύς:</p>\n",
      "<p>\"Αἰολίην δ' ἐς νῆσον ἀφικόμεθ': ἔνθα δ' ἔναιεν</p>\n",
      "<p>\"αὐτὰρ ἐπεί ῥ' ἐπὶ νῆα κατήλθομεν ἠδὲ θάλασσαν,</p>\n",
      "<p>\"αὐτὰρ ἐπεὶ ποταμοῖο λίπεν ῥόον Ὠκεανοῖο</p>\n",
      "<p>ὣς ἔφαθ', οἱ δ' ἄρα πάντες ἀκὴν ἐγένοντο σιωπῇ,</p>\n",
      "<p>αὐτὰρ ὁ ἐκ λιμένος προσέβη τρηχεῖαν ἀταρπὸν</p>\n",
      "<p>ἡ δ' εἰς εὐρύχορον Λακεδαίμονα Παλλὰς Ἀθήνη</p>\n",
      "<p>τὼ δ' αὖτ' ἐν κλισίῃ Ὀδυσεὺς καὶ δῖος ὑφορβὸς</p>\n",
      "<p>ἦμος δ' ἠριγένεια φάνη ῥοδοδάκτυλος Ἠώς,</p>\n",
      "<p>ἦλθε δ' ἐπὶ πτωχὸς πανδήμιος, ὃς κατὰ ἄστυ</p>\n",
      "<p>αὐτὰρ ὁ ἐν μεγάρῳ ὑπελείπετο δῖος Ὀδυσσεύς,</p>\n",
      "<p>αὐτὰρ ὁ ἐν προδόμῳ εὐνάζετο δῖος Ὀδυσσεύς:</p>\n",
      "<p>τῇ δ' ἄρ' ἐπὶ φρεσὶ θῆκε θεὰ γλαυκῶπις Ἀθήνη,</p>\n",
      "<p>αὐτὰρ ὁ γυμνώθη ῥακέων πολύμητις Ὀδυσσεύς,</p>\n",
      "<p>γρηὺ̈ς δ' εἰς ὑπερῷ' ἀνεβήσετο καγχαλόωσα,</p>\n",
      "<p>Ἑρμῆς δὲ ψυχὰς Κυλλήνιος ἐξεκαλεῖτο</p>\n"
     ]
    }
   ],
   "source": [
    "## prints first line of each book\n",
    "for page in n_books:\n",
    "    url = f'{base_url}{str(page).zfill(2)}.htm'\n",
    "    bs_object = BeautifulSoup(requests.get(url, headers=headers).text, \"html.parser\")\n",
    "    line = bs_object.find(\"p\")\n",
    "    print(line)"
   ]
  },
  {
   "cell_type": "markdown",
   "metadata": {},
   "source": [
    "# Test PDF reader"
   ]
  },
  {
   "cell_type": "code",
   "execution_count": null,
   "metadata": {},
   "outputs": [],
   "source": [
    "## initialise text\n",
    "import PyPDF2\n",
    "\n",
    "pdfFileObj = open('West, Homeri Odyssea 2017.pdf', 'rb')\n",
    "pdfReader = PyPDF2.PdfFileReader(pdfFileObj)"
   ]
  },
  {
   "cell_type": "code",
   "execution_count": 11,
   "metadata": {},
   "outputs": [
    {
     "name": "stdout",
     "output_type": "stream",
     "text": [
      "Ἄνδρά μοι ἔννεπε, Μοῦσα, πολύτροπον, ὃς μάλα πολλάαπλάγχθη, ἐπεὶ Τροίης ἱερὸν πτολίεθρον ἔπερσεν·πολλῶν δ’ ἀνθρώπων ἴδεν ἄστεα καὶ νόον ἔγνω,πολλὰ δ’ ὅ γ’ ἐν πόντωι πάθεν ἄλγεα ὃν κατὰ θυμόνἀρνύμενος ἥν τε ψυχὴν καὶ νόστον ἑταίρων.\n",
      "5\n",
      "ἀλλ’ οὐδ’ ὧς ἑτάρους ἐρρύσατο, ἱέμενός περ·αὐτῶν γὰρ σφετέρηισιν ἀτασθαλίηισιν ὄλοντο,νήπιοι, οἳ κατὰ βοῦς Ὑπερίονος Ἠελίοιοἤσθιον· αὐτὰρ ὃ τοῖσιν ἀφείλετο νόστιμον ἦμαρ.\n",
      "1–3 resp. Hor. AP 141–142\n",
      "\n",
      "\n",
      "1–2 (πλ.) + 3–4 Polyb. 12.27.10–11\n",
      "\n",
      "\n",
      "1–2 (πλ.) ApD Synt. 120.9; Max. Tyr. 26.1; [Plut.] Hom. 2.49\n",
      "\n",
      "\n",
      "1 Matro fr. 1.1 O.–S. (parod.); Alex. Fig. 34.8; Latine redd. Liv. Andr. fr. 1; (– πολ.) D.H. Comp. 33; Anon. iii Trop. NGG 1896.337; Himer. Or. 35.38; sch Ar. Nub. 260; [Heph.] p.354.10 C.; EtM α 1393, 368.12; 1a Arist. Rh. 1415a16; ApD Synt. 332.9; Gell. 18.9.9; Heph. p.3.7 C.; Diom. GL i.429.18; Herm. in Phaedr. p.104.15 L.–M.; Procl. in Remp. i.184.30; Them. CAG v(1).49.2; Choer. in Thd. ii.256.9; id. in Heph. 187.12, 196.19; Epm. μ 65; sch A 1f; sch Eur. Or. 24; sch Ar. Ach. 204; sch Arat. 1 (38.7 Mart.); (– ἔννεπε) Choer. in Thd. ii.2.14; Epm. η 18; EtGud 244.21 Stz.; (πολ.) Antisth. fr. 51 Decl.; Iul. Or. 1.12d; Hsch. π 2934\n",
      "\n",
      "\n",
      "2–5 resp. Hor. Epist. 1.2.19–22\n",
      "\n",
      "\n",
      "2 Heph. p.3.8 C. cum sch p.282.26 etc.; 2 (– πτολ.) Choer. Orth. 212.31; 2a id. in Heph. 187.18, 196.17; An. Par. iv.226.24; (πλάγχθη ἐ) sch\n",
      "h Φ 223; (ἐπεὶ –) ApD Coni. 245.26; [Plut.] Hom. 2.22.3; Hsch. ε 4313; Epm. α 303, ε 163; EtM 356.12; sch Soph. Ant. 15; (ἐπεὶ\n",
      "– πτολ.) EtG s. Τροία; sch A 127; (ἔπερσεν) Hsch. ε 4444\n",
      "\n",
      "\n",
      "3 + 5 Max. Tyr. 15.6, 22.5\n",
      "\n",
      "\n",
      "3–4 id. 38.7; 3 Strab. 1.1.16, 2.4.34; Diod. 1.1.2; Max. Tyr. 16.6; Arr. Epict. 3.24.13; Choric. 26.18; Eudoc. 387; resp. Clem. Str. 1.44.1, Iul. Or. 1.12d; (– ἄστεα) Choric. 95.7\n",
      "\n",
      "\n",
      "4–5 Porph. ad α 8g\n",
      "1\n",
      "\n",
      "\n",
      "4 (– ἄλγ.) ApS 133.23; EtM 681.18; 5 Luc. Dial. 34.1; Max. Tyr. 14.4; Epm. α 273 (bis); (– ψ.) sch Δ 494–495\n",
      "\n",
      "\n",
      "6 ApS 170.17; EtM 824.20; EtGud 582.7 Stz.; (– ἐρρ.) ApD Coni. 255.18 (Tryph. p.44 V.)\n",
      "\n",
      "\n",
      "7 Chrysipp. SVF iii.293.17; Μax. Tyr. 6.6; Porph. ad α 8g\n",
      "1; Eus. PE 6.8.2; Hsch. σ 2875; Eudoc. 89; (– ἀτ.) ApD Synt. 87.4; 7a Arn ad K 204; ApD Pron. 62.20, 103.20\n",
      "\n",
      "\n",
      "8–9 Aristid. Quint. 3.26; 8–9 (ἤσθ.) ApD Synt. 384.7; Hdn ad A 258; ‘Trypho ii’ Trop. 5.1 (CQ 15.239); Cocondr. 238.14; Epm. κ 155; EtM 123.52\n",
      "\n",
      "\n",
      "8 (– ῾Υπ.) Arn ad M 113; (oἳ –)–119 Porph. ad α 8g\n",
      "1; (oἳ –)–119 (ἤσθ.) Hdn ad Γ 440, Θ 4; Epm. κ 1481 ἄνδρά disertim Epm.\n",
      "η EtGud, Fa, ‘oportebat’ Hdn: ἄνδρα A r\n",
      "Ω *\n",
      "\n",
      "\n",
      " πολύ-τροπον tt g\n",
      "V Z Ω: πολύκροτον quidam ap. sch-Ar.Nub. (parodus teste Eust. 1381.47)\n",
      "\n",
      "\n",
      "3 νόον Ar tt g\n",
      "V Ω: νομον Zen (sc. νόμον potius quam νομὸν, cf. ps.- Scymn. 102): mores Hor. utroque loco\n",
      "\n",
      "\n",
      "6 ὧς quidam ante Tryphonem ApS F\n",
      "a: ὣς Trypho(?) Ω*\n",
      "\n",
      "\n",
      "7 αὐτῶν tt* Ω: αὐτοὶ (cf. 33) Porph. Eus. rr\n",
      "Brought to you by | University of Cambridge\n",
      "Authenticated\n",
      "Download Date | 10/10/17 12:15 PM\n"
     ]
    }
   ],
   "source": [
    "## print first page of West\n",
    "pageObj = pdfReader.getPage(52)\n",
    "text = pageObj.extractText().split(\"  \")\n",
    "for i in range(len(text)):\n",
    "    print(text[i])\n",
    "pdfFileObj.close()"
   ]
  }
 ],
 "metadata": {
  "kernelspec": {
   "display_name": "Python 3.8.10 64-bit",
   "language": "python",
   "name": "python3"
  },
  "language_info": {
   "codemirror_mode": {
    "name": "ipython",
    "version": 3
   },
   "file_extension": ".py",
   "mimetype": "text/x-python",
   "name": "python",
   "nbconvert_exporter": "python",
   "pygments_lexer": "ipython3",
   "version": "3.8.10"
  },
  "orig_nbformat": 4,
  "vscode": {
   "interpreter": {
    "hash": "916dbcbb3f70747c44a77c7bcd40155683ae19c65e1c03b4aa3499c5328201f1"
   }
  }
 },
 "nbformat": 4,
 "nbformat_minor": 2
}
