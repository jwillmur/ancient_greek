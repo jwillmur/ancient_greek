{
 "cells": [
  {
   "cell_type": "markdown",
   "metadata": {},
   "source": [
    "# Visualise correlation between features and feature selection"
   ]
  },
  {
   "cell_type": "code",
   "execution_count": 15,
   "metadata": {},
   "outputs": [],
   "source": [
    "## import necesarry libraries\n",
    "import dython\n",
    "import pandas as pd\n",
    "import seaborn as sns\n",
    "import statsmodels.api as sm\n",
    "\n",
    "from collections import Counter\n",
    "from sklearn.model_selection import train_test_split\n",
    "from statsmodels.formula.api import ols"
   ]
  },
  {
   "cell_type": "code",
   "execution_count": 16,
   "metadata": {},
   "outputs": [],
   "source": [
    "## read in data\n",
    "instances_long = pd.read_csv('data/ships_extended.csv', index_col=0)\n",
    "instances_short = pd.read_csv('data/west_extended.csv')\n",
    "\n",
    "X_train, X_test, y_train, t_test = train_test_split(instances_long.drop(['epithet_gr', 'epithet_en'], axis=1), instances_long['epithet_en'], test_size=0.2)"
   ]
  },
  {
   "cell_type": "code",
   "execution_count": 17,
   "metadata": {},
   "outputs": [],
   "source": [
    "## count occurences of the label\n",
    "gr_dict = Counter(instances_long['epithet_gr'])\n",
    "en_dict = Counter(instances_long['epithet_en'])"
   ]
  },
  {
   "cell_type": "markdown",
   "metadata": {},
   "source": [
    "Categorical input = chi-square chi2() or mutual information mutual_info_classif() or mutual_info_regression()\n",
    "\n",
    "Numerical input = ANOVA f_classif() or Kendall's kendalltau"
   ]
  },
  {
   "cell_type": "code",
   "execution_count": 18,
   "metadata": {},
   "outputs": [],
   "source": [
    "from sklearn.feature_selection import SelectKBest, chi2, mutual_info_classif\n",
    "\n",
    "X = X_train[['ship', 'number', 'case', 'scansion', 'book', 'position']]\n",
    "y = y_train\n",
    "\n",
    "#chi2_selector = SelectKBest(chi2, k=3)\n",
    "#X_kbest = chi2_selector.fit_transform(X, y)\n",
    "#X_kbest\n",
    "\n",
    "mi_score = mutual_info_classif(X,y)"
   ]
  },
  {
   "cell_type": "code",
   "execution_count": 26,
   "metadata": {},
   "outputs": [
    {
     "data": {
      "text/plain": [
       "array([0.        , 0.59599446, 0.13225386, 0.00699017, 0.0649207 ,\n",
       "       0.34103886])"
      ]
     },
     "execution_count": 26,
     "metadata": {},
     "output_type": "execute_result"
    }
   ],
   "source": [
    "mi_score"
   ]
  },
  {
   "cell_type": "code",
   "execution_count": 21,
   "metadata": {},
   "outputs": [],
   "source": [
    "## distinguish features\n",
    "cat_nom = ['ship', 'number', 'case', 'scansion']\n",
    "cat_ord = ['book', 'position']\n",
    "num_dis = ['num_lines', 'difference']\n",
    "num_con = ['line', 'ratio']"
   ]
  },
  {
   "cell_type": "code",
   "execution_count": 22,
   "metadata": {},
   "outputs": [
    {
     "data": {
      "text/plain": [
       "<AxesSubplot:>"
      ]
     },
     "execution_count": 22,
     "metadata": {},
     "output_type": "execute_result"
    },
    {
     "data": {
      "image/png": "[encoded data removed]",
      "text/plain": [
       "<Figure size 432x288 with 2 Axes>"
      ]
     },
     "metadata": {
      "needs_background": "light"
     },
     "output_type": "display_data"
    }
   ],
   "source": [
    "continuous = instances_long.drop(cat_nom, axis=1)\n",
    "correlation_matrix = continuous.corr(method='pearson')\n",
    "sns.heatmap(correlation_matrix, cmap=sns.color_palette(\"icefire\", as_cmap=True), center=0)"
   ]
  },
  {
   "cell_type": "code",
   "execution_count": 23,
   "metadata": {},
   "outputs": [
    {
     "data": {
      "image/png": "[encoded data removed]",
      "text/plain": [
       "<Figure size 432x288 with 2 Axes>"
      ]
     },
     "metadata": {
      "needs_background": "light"
     },
     "output_type": "display_data"
    }
   ],
   "source": [
    "correlation_matrix = dython.nominal.associations(instances_long.drop(['bigrams', 'trigrams'], axis=1), annot=False)"
   ]
  },
  {
   "cell_type": "code",
   "execution_count": 24,
   "metadata": {},
   "outputs": [
    {
     "data": {
      "text/html": [
       "<div>\n",
       "<style scoped>\n",
       "    .dataframe tbody tr th:only-of-type {\n",
       "        vertical-align: middle;\n",
       "    }\n",
       "\n",
       "    .dataframe tbody tr th {\n",
       "        vertical-align: top;\n",
       "    }\n",
       "\n",
       "    .dataframe thead th {\n",
       "        text-align: right;\n",
       "    }\n",
       "</style>\n",
       "<table border=\"1\" class=\"dataframe\">\n",
       "  <thead>\n",
       "    <tr style=\"text-align: right;\">\n",
       "      <th></th>\n",
       "      <th>correlation</th>\n",
       "    </tr>\n",
       "  </thead>\n",
       "  <tbody>\n",
       "    <tr>\n",
       "      <th>epithet_gr</th>\n",
       "      <td>0.895220</td>\n",
       "    </tr>\n",
       "    <tr>\n",
       "      <th>difference</th>\n",
       "      <td>0.752377</td>\n",
       "    </tr>\n",
       "    <tr>\n",
       "      <th>ship</th>\n",
       "      <td>0.708272</td>\n",
       "    </tr>\n",
       "    <tr>\n",
       "      <th>number</th>\n",
       "      <td>0.487783</td>\n",
       "    </tr>\n",
       "    <tr>\n",
       "      <th>ratio</th>\n",
       "      <td>0.443604</td>\n",
       "    </tr>\n",
       "    <tr>\n",
       "      <th>position</th>\n",
       "      <td>0.420263</td>\n",
       "    </tr>\n",
       "    <tr>\n",
       "      <th>case</th>\n",
       "      <td>0.395001</td>\n",
       "    </tr>\n",
       "    <tr>\n",
       "      <th>scansion</th>\n",
       "      <td>0.389567</td>\n",
       "    </tr>\n",
       "    <tr>\n",
       "      <th>book</th>\n",
       "      <td>0.364857</td>\n",
       "    </tr>\n",
       "    <tr>\n",
       "      <th>num_lines</th>\n",
       "      <td>0.339294</td>\n",
       "    </tr>\n",
       "    <tr>\n",
       "      <th>line</th>\n",
       "      <td>0.293841</td>\n",
       "    </tr>\n",
       "    <tr>\n",
       "      <th>clause</th>\n",
       "      <td>0.199826</td>\n",
       "    </tr>\n",
       "  </tbody>\n",
       "</table>\n",
       "</div>"
      ],
      "text/plain": [
       "            correlation\n",
       "epithet_gr     0.895220\n",
       "difference     0.752377\n",
       "ship           0.708272\n",
       "number         0.487783\n",
       "ratio          0.443604\n",
       "position       0.420263\n",
       "case           0.395001\n",
       "scansion       0.389567\n",
       "book           0.364857\n",
       "num_lines      0.339294\n",
       "line           0.293841\n",
       "clause         0.199826"
      ]
     },
     "execution_count": 24,
     "metadata": {},
     "output_type": "execute_result"
    }
   ],
   "source": [
    "sorted_mat = correlation_matrix['corr'].unstack().sort_values()\n",
    "\n",
    "# Reformat series into data frame\n",
    "df = pd.DataFrame(data=sorted_mat)\n",
    "df.rename({0:'correlation'}, axis=1, inplace=True)\n",
    "df['Index'] = df.index\n",
    "df = pd.concat(\n",
    "        [df.drop('Index', axis=1), \n",
    "        df['Index'].apply(pd.Series)]\n",
    "    , axis=1)\n",
    "\n",
    "# Output correlation list\n",
    "correlations = pd.DataFrame(df[df[0] == 'epithet_en']['correlation'])\n",
    "correlations = correlations.sort_values(by='correlation', ascending=False)\n",
    "\n",
    "# Remove multi-level indexing\n",
    "correlations.index = correlations.index.droplevel(0)\n",
    "\n",
    "correlations = correlations.drop('epithet_en')\n",
    "correlations"
   ]
  },
  {
   "cell_type": "code",
   "execution_count": 25,
   "metadata": {},
   "outputs": [
    {
     "name": "stdout",
     "output_type": "stream",
     "text": [
      "ship\n"
     ]
    },
    {
     "ename": "ValueError",
     "evalue": "endog has evaluated to an array with multiple columns that has shape (158, 17). This occurs when the variable converted to endog is non-numeric (e.g., bool or str).",
     "output_type": "error",
     "traceback": [
      "\u001b[0;31m---------------------------------------------------------------------------\u001b[0m",
      "\u001b[0;31mValueError\u001b[0m                                Traceback (most recent call last)",
      "\u001b[1;32m/mnt/c/Users/jwill/Desktop/UNI/greek/ancient_greek/clas20016_research/analyse_features.ipynb Cell 11\u001b[0m in \u001b[0;36m<cell line: 4>\u001b[0;34m()\u001b[0m\n\u001b[1;32m      <a href='vscode-notebook-cell://wsl%2Bubuntu/mnt/c/Users/jwill/Desktop/UNI/greek/ancient_greek/clas20016_research/analyse_features.ipynb#X14sdnNjb2RlLXJlbW90ZQ%3D%3D?line=3'>4</a>\u001b[0m \u001b[39mfor\u001b[39;00m c \u001b[39min\u001b[39;00m categoricals:\n\u001b[1;32m      <a href='vscode-notebook-cell://wsl%2Bubuntu/mnt/c/Users/jwill/Desktop/UNI/greek/ancient_greek/clas20016_research/analyse_features.ipynb#X14sdnNjb2RlLXJlbW90ZQ%3D%3D?line=4'>5</a>\u001b[0m     \u001b[39mprint\u001b[39m(c)\n\u001b[0;32m----> <a href='vscode-notebook-cell://wsl%2Bubuntu/mnt/c/Users/jwill/Desktop/UNI/greek/ancient_greek/clas20016_research/analyse_features.ipynb#X14sdnNjb2RlLXJlbW90ZQ%3D%3D?line=5'>6</a>\u001b[0m     model \u001b[39m=\u001b[39m ols(\u001b[39m'\u001b[39;49m\u001b[39mepithet_en ~ \u001b[39;49m\u001b[39m'\u001b[39;49m\u001b[39m+\u001b[39;49mc, data \u001b[39m=\u001b[39;49m instances_long)\u001b[39m.\u001b[39mfit() \u001b[39m# ordinary least squares\u001b[39;00m\n\u001b[1;32m      <a href='vscode-notebook-cell://wsl%2Bubuntu/mnt/c/Users/jwill/Desktop/UNI/greek/ancient_greek/clas20016_research/analyse_features.ipynb#X14sdnNjb2RlLXJlbW90ZQ%3D%3D?line=6'>7</a>\u001b[0m     result_anova \u001b[39m=\u001b[39m sm\u001b[39m.\u001b[39mstats\u001b[39m.\u001b[39manova_lm(model) \u001b[39m# ANOVA Test\u001b[39;00m\n\u001b[1;32m      <a href='vscode-notebook-cell://wsl%2Bubuntu/mnt/c/Users/jwill/Desktop/UNI/greek/ancient_greek/clas20016_research/analyse_features.ipynb#X14sdnNjb2RlLXJlbW90ZQ%3D%3D?line=7'>8</a>\u001b[0m     \u001b[39mprint\u001b[39m(result_anova)\n",
      "File \u001b[0;32m~/.local/lib/python3.8/site-packages/statsmodels/base/model.py:206\u001b[0m, in \u001b[0;36mModel.from_formula\u001b[0;34m(cls, formula, data, subset, drop_cols, *args, **kwargs)\u001b[0m\n\u001b[1;32m    203\u001b[0m max_endog \u001b[39m=\u001b[39m \u001b[39mcls\u001b[39m\u001b[39m.\u001b[39m_formula_max_endog\n\u001b[1;32m    204\u001b[0m \u001b[39mif\u001b[39;00m (max_endog \u001b[39mis\u001b[39;00m \u001b[39mnot\u001b[39;00m \u001b[39mNone\u001b[39;00m \u001b[39mand\u001b[39;00m\n\u001b[1;32m    205\u001b[0m         endog\u001b[39m.\u001b[39mndim \u001b[39m>\u001b[39m \u001b[39m1\u001b[39m \u001b[39mand\u001b[39;00m endog\u001b[39m.\u001b[39mshape[\u001b[39m1\u001b[39m] \u001b[39m>\u001b[39m max_endog):\n\u001b[0;32m--> 206\u001b[0m     \u001b[39mraise\u001b[39;00m \u001b[39mValueError\u001b[39;00m(\u001b[39m'\u001b[39m\u001b[39mendog has evaluated to an array with multiple \u001b[39m\u001b[39m'\u001b[39m\n\u001b[1;32m    207\u001b[0m                      \u001b[39m'\u001b[39m\u001b[39mcolumns that has shape \u001b[39m\u001b[39m{0}\u001b[39;00m\u001b[39m. This occurs when \u001b[39m\u001b[39m'\u001b[39m\n\u001b[1;32m    208\u001b[0m                      \u001b[39m'\u001b[39m\u001b[39mthe variable converted to endog is non-numeric\u001b[39m\u001b[39m'\u001b[39m\n\u001b[1;32m    209\u001b[0m                      \u001b[39m'\u001b[39m\u001b[39m (e.g., bool or str).\u001b[39m\u001b[39m'\u001b[39m\u001b[39m.\u001b[39mformat(endog\u001b[39m.\u001b[39mshape))\n\u001b[1;32m    210\u001b[0m \u001b[39mif\u001b[39;00m drop_cols \u001b[39mis\u001b[39;00m \u001b[39mnot\u001b[39;00m \u001b[39mNone\u001b[39;00m \u001b[39mand\u001b[39;00m \u001b[39mlen\u001b[39m(drop_cols) \u001b[39m>\u001b[39m \u001b[39m0\u001b[39m:\n\u001b[1;32m    211\u001b[0m     cols \u001b[39m=\u001b[39m [x \u001b[39mfor\u001b[39;00m x \u001b[39min\u001b[39;00m exog\u001b[39m.\u001b[39mcolumns \u001b[39mif\u001b[39;00m x \u001b[39mnot\u001b[39;00m \u001b[39min\u001b[39;00m drop_cols]\n",
      "\u001b[0;31mValueError\u001b[0m: endog has evaluated to an array with multiple columns that has shape (158, 17). This occurs when the variable converted to endog is non-numeric (e.g., bool or str)."
     ]
    }
   ],
   "source": [
    "# Test for relationship with categorical variables using one-way ANOVA\n",
    "categoricals = cat_nom + cat_ord\n",
    "\n",
    "for c in categoricals:\n",
    "    print(c)\n",
    "    model = ols('epithet_en ~ '+c, data = instances_long).fit() # ordinary least squares\n",
    "    result_anova = sm.stats.anova_lm(model) # ANOVA Test\n",
    "    print(result_anova)"
   ]
  }
 ],
 "metadata": {
  "kernelspec": {
   "display_name": "Python 3.8.10 64-bit",
   "language": "python",
   "name": "python3"
  },
  "language_info": {
   "codemirror_mode": {
    "name": "ipython",
    "version": 3
   },
   "file_extension": ".py",
   "mimetype": "text/x-python",
   "name": "python",
   "nbconvert_exporter": "python",
   "pygments_lexer": "ipython3",
   "version": "3.8.10"
  },
  "orig_nbformat": 4,
  "vscode": {
   "interpreter": {
    "hash": "916dbcbb3f70747c44a77c7bcd40155683ae19c65e1c03b4aa3499c5328201f1"
   }
  }
 },
 "nbformat": 4,
 "nbformat_minor": 2
}
