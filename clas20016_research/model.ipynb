{
 "cells": [
  {
   "cell_type": "markdown",
   "metadata": {},
   "source": [
    "# Create the model"
   ]
  },
  {
   "cell_type": "code",
   "execution_count": 11,
   "metadata": {},
   "outputs": [],
   "source": [
    "## import necesarry libraries\n",
    "import pandas as pd\n",
    "\n",
    "from sklearn.model_selection import cross_val_score, train_test_split\n",
    "from sklearn.tree import DecisionTreeClassifier"
   ]
  },
  {
   "cell_type": "code",
   "execution_count": 12,
   "metadata": {},
   "outputs": [],
   "source": [
    "## read in data\n",
    "## read in data\n",
    "instances_long = pd.read_csv('data/ships_extended.csv', index_col=0)\n",
    "instances_short = pd.read_csv('data/west_extended.csv')\n",
    "\n",
    "X_train, X_test, Y_train, Y_test = train_test_split(instances_long.drop(['epithet_gr', 'epithet_en', 'clause', 'bigrams', 'trigrams'], axis=1), instances_long['epithet_en'], test_size=0.2)"
   ]
  },
  {
   "cell_type": "code",
   "execution_count": 13,
   "metadata": {},
   "outputs": [
    {
     "name": "stderr",
     "output_type": "stream",
     "text": [
      "/home/jwilliamsmurnane/.local/lib/python3.8/site-packages/sklearn/model_selection/_split.py:684: UserWarning: The least populated class in y has only 1 members, which is less than n_splits=5.\n",
      "  warnings.warn(\n"
     ]
    },
    {
     "data": {
      "text/plain": [
       "0.5800000000000001"
      ]
     },
     "execution_count": 13,
     "metadata": {},
     "output_type": "execute_result"
    }
   ],
   "source": [
    "## BASELINE ONE_R MODEL\n",
    "x_train, x_test, y_train, y_test = train_test_split(X_train, Y_train, test_size=0.2)\n",
    "one_r = DecisionTreeClassifier(max_depth=1)\n",
    "one_r = one_r.fit(x_train, y_train)\n",
    "cross_val_score(one_r, x_test, y_test, scoring='f1_micro').mean()"
   ]
  },
  {
   "cell_type": "code",
   "execution_count": 14,
   "metadata": {},
   "outputs": [
    {
     "name": "stderr",
     "output_type": "stream",
     "text": [
      "/home/jwilliamsmurnane/.local/lib/python3.8/site-packages/sklearn/model_selection/_split.py:684: UserWarning: The least populated class in y has only 1 members, which is less than n_splits=5.\n",
      "  warnings.warn(\n"
     ]
    },
    {
     "data": {
      "text/plain": [
       "0.6933333333333335"
      ]
     },
     "execution_count": 14,
     "metadata": {},
     "output_type": "execute_result"
    }
   ],
   "source": [
    "## DECISION TREE\n",
    "x_train, x_test, y_train, y_test = train_test_split(X_train, Y_train, test_size=0.2)\n",
    "one_r = DecisionTreeClassifier(max_depth=5)\n",
    "one_r = one_r.fit(x_train, y_train)\n",
    "cross_val_score(one_r, x_test, y_test, scoring='f1_micro').mean()"
   ]
  }
 ],
 "metadata": {
  "kernelspec": {
   "display_name": "Python 3.8.10 64-bit",
   "language": "python",
   "name": "python3"
  },
  "language_info": {
   "codemirror_mode": {
    "name": "ipython",
    "version": 3
   },
   "file_extension": ".py",
   "mimetype": "text/x-python",
   "name": "python",
   "nbconvert_exporter": "python",
   "pygments_lexer": "ipython3",
   "version": "3.8.10"
  },
  "orig_nbformat": 4,
  "vscode": {
   "interpreter": {
    "hash": "916dbcbb3f70747c44a77c7bcd40155683ae19c65e1c03b4aa3499c5328201f1"
   }
  }
 },
 "nbformat": 4,
 "nbformat_minor": 2
}
