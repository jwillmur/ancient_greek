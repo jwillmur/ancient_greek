{
 "cells": [
  {
   "cell_type": "markdown",
   "metadata": {},
   "source": [
    "# Create the model"
   ]
  },
  {
   "cell_type": "code",
   "execution_count": 200,
   "metadata": {},
   "outputs": [],
   "source": [
    "## import necessary libraries\n",
    "import numpy as np\n",
    "import pandas as pd\n",
    "import warnings\n",
    "\n",
    "warnings.filterwarnings(\"ignore\")\n",
    "\n",
    "from helper_functions import anova, chi_square, tfidf_vector\n",
    "from helper_functions import model_features\n",
    "from numpy import append\n",
    "from sklearn.linear_model import LogisticRegression\n",
    "from sklearn.metrics import f1_score\n",
    "from sklearn.model_selection import train_test_split\n",
    "from sklearn.preprocessing import LabelEncoder, OneHotEncoder\n",
    "from sklearn.tree import DecisionTreeClassifier"
   ]
  },
  {
   "cell_type": "code",
   "execution_count": 201,
   "metadata": {},
   "outputs": [],
   "source": [
    "## read in data\n",
    "instances = pd.read_csv('data/ships_extended.csv', index_col=0)\n",
    "X_train, X_test, Y_train, Y_test = train_test_split(instances.drop(['epithet_gr', 'epithet_en', 'clause'], axis=1), instances['epithet_en'], test_size=0.2, random_state=20016)"
   ]
  },
  {
   "cell_type": "markdown",
   "metadata": {},
   "source": [
    "## Model features excluding trigrams"
   ]
  },
  {
   "cell_type": "code",
   "execution_count": 202,
   "metadata": {},
   "outputs": [],
   "source": [
    "## split again to evaulate best model\n",
    "x_f_train, x_f_test, y_train, y_test = train_test_split(X_train.drop('trigrams', axis=1), Y_train, test_size=0.2, random_state=20016)"
   ]
  },
  {
   "cell_type": "code",
   "execution_count": 203,
   "metadata": {},
   "outputs": [],
   "source": [
    "## featurise\n",
    "cat = ['ship', 'number', 'case', 'scansion', 'book', 'position']\n",
    "num = ['num_lines', 'difference', 'line', 'ratio']\n",
    "x_chi_train, x_chi_test = chi_square(x_f_train[cat], y_train, x_f_test[cat], 3)\n",
    "x_anova_train, x_anova_test = anova(x_f_train[num], y_train, x_f_test[num])\n",
    "\n",
    "x_both_train = []\n",
    "x_both_test = []\n",
    "for i in range(len(x_chi_train)):\n",
    "    x_both_train.append(np.append(x_chi_train[i],x_anova_train[i]))\n",
    "for i in range(len(x_chi_test)):\n",
    "    x_both_test.append(np.append(x_chi_test[i], x_anova_test[i]))"
   ]
  },
  {
   "cell_type": "code",
   "execution_count": 204,
   "metadata": {},
   "outputs": [
    {
     "name": "stdout",
     "output_type": "stream",
     "text": [
      "Raw\n",
      "Baseline 0-R: 0.5333333333333334\n",
      "One=R: 0.6444444444444444\n",
      "Decision tree: 0.5777777777777778\n",
      "MLR: 0.5111111111111111\n",
      "Chi square\n",
      "Baseline 0-R: 0.5333333333333334\n",
      "One=R: 0.42222222222222217\n",
      "Decision tree: 0.28888888888888886\n",
      "MLR: 0.4666666666666666\n",
      "ANOVA\n",
      "Baseline 0-R: 0.5333333333333334\n",
      "One=R: 0.6444444444444444\n",
      "Decision tree: 0.6888888888888889\n",
      "MLR: 0.5333333333333334\n",
      "Both\n",
      "Baseline 0-R: 0.5333333333333334\n",
      "One=R: 0.6444444444444444\n",
      "Decision tree: 0.6444444444444444\n",
      "MLR: 0.5111111111111111\n"
     ]
    }
   ],
   "source": [
    "## model\n",
    "print('Raw')\n",
    "model_features(x_f_train, x_f_test, y_train, y_test)\n",
    "\n",
    "print('Chi square')\n",
    "model_features(x_chi_train, x_chi_test, y_train, y_test)\n",
    "\n",
    "print('ANOVA')\n",
    "model_features(x_anova_train, x_anova_test, y_train, y_test)\n",
    "\n",
    "print('Both')\n",
    "model_features(x_both_train, x_both_test, y_train, y_test)"
   ]
  },
  {
   "cell_type": "markdown",
   "metadata": {},
   "source": [
    "## Modelling Trigrams"
   ]
  },
  {
   "cell_type": "code",
   "execution_count": 205,
   "metadata": {},
   "outputs": [],
   "source": [
    "## split for trigrams\n",
    "x_t_train, x_t_test, y_train, y_test = train_test_split(X_train['trigrams'], Y_train, test_size=0.2, random_state=20016)"
   ]
  },
  {
   "cell_type": "code",
   "execution_count": 206,
   "metadata": {},
   "outputs": [],
   "source": [
    "## featurise\n",
    "x_tfidf_train, x_tfidf_test = tfidf_vector(x_t_train, x_t_test)\n",
    "x_t_c_train, x_t_c_test = chi_square(x_tfidf_train, y_train, x_tfidf_test, 100)"
   ]
  },
  {
   "cell_type": "code",
   "execution_count": 207,
   "metadata": {},
   "outputs": [
    {
     "name": "stdout",
     "output_type": "stream",
     "text": [
      "TFIDF\n",
      "Baseline 0-R: 0.5333333333333334\n",
      "One=R: 0.5777777777777777\n",
      "Decision tree: 0.4444444444444445\n",
      "MLR: 0.5333333333333334\n",
      "TFIDF and Chi Square\n",
      "Baseline 0-R: 0.5333333333333334\n",
      "One=R: 0.5111111111111111\n",
      "Decision tree: 0.48888888888888893\n",
      "MLR: 0.5333333333333334\n"
     ]
    }
   ],
   "source": [
    "## model\n",
    "print('TFIDF')\n",
    "model_features(x_tfidf_train, x_tfidf_test, y_train, y_test)\n",
    "\n",
    "print('TFIDF and Chi Square')\n",
    "model_features(x_t_c_train, x_t_c_test, y_train, y_test)"
   ]
  },
  {
   "cell_type": "markdown",
   "metadata": {},
   "source": [
    "## Stacking models"
   ]
  },
  {
   "cell_type": "code",
   "execution_count": 208,
   "metadata": {},
   "outputs": [],
   "source": [
    "label = LabelEncoder()\n",
    "onehot_encoder = OneHotEncoder(sparse=False)\n",
    "\n",
    "predictions_train = []\n",
    "predictions_test = []"
   ]
  },
  {
   "cell_type": "code",
   "execution_count": 209,
   "metadata": {},
   "outputs": [],
   "source": [
    "## one r both\n",
    "one_r = DecisionTreeClassifier(max_depth=1)\n",
    "one_r = one_r.fit(x_both_train, y_train)\n",
    "\n",
    "preds = one_r.predict(x_both_train)\n",
    "mapper = label.fit_transform(preds)\n",
    "mapper = mapper.reshape(len(mapper),1)\n",
    "arr = onehot_encoder.fit_transform(mapper)\n",
    "preds = []\n",
    "for i in range(len(arr)):\n",
    "    for j in range(len(arr[i])):\n",
    "        if arr[i][j]==1:\n",
    "            preds.append(j)\n",
    "predictions_train.append(preds)\n",
    "\n",
    "preds = one_r.predict(x_both_test)\n",
    "mapper = label.fit_transform(preds)\n",
    "mapper = mapper.reshape(len(mapper),1)\n",
    "arr = onehot_encoder.fit_transform(mapper)\n",
    "preds = []\n",
    "for i in range(len(arr)):\n",
    "    for j in range(len(arr[i])):\n",
    "        if arr[i][j]==1:\n",
    "            preds.append(j)\n",
    "predictions_test.append(preds)"
   ]
  },
  {
   "cell_type": "code",
   "execution_count": 210,
   "metadata": {},
   "outputs": [],
   "source": [
    "## decision tree both\n",
    "tree = DecisionTreeClassifier(max_depth=5)\n",
    "tree = tree.fit(x_both_train, y_train)\n",
    "\n",
    "preds = tree.predict(x_both_train)\n",
    "mapper = label.fit_transform(preds)\n",
    "mapper = mapper.reshape(len(mapper),1)\n",
    "arr = onehot_encoder.fit_transform(mapper)\n",
    "preds = []\n",
    "for i in range(len(arr)):\n",
    "    for j in range(len(arr[i])):\n",
    "        if arr[i][j]==1:\n",
    "            preds.append(j)\n",
    "predictions_train.append(preds)\n",
    "\n",
    "preds = tree.predict(x_both_test)\n",
    "mapper = label.fit_transform(preds)\n",
    "mapper = mapper.reshape(len(mapper),1)\n",
    "arr = onehot_encoder.fit_transform(mapper)\n",
    "preds = []\n",
    "for i in range(len(arr)):\n",
    "    for j in range(len(arr[i])):\n",
    "        if arr[i][j]==1:\n",
    "            preds.append(j)\n",
    "predictions_test.append(preds)\n"
   ]
  },
  {
   "cell_type": "code",
   "execution_count": 211,
   "metadata": {},
   "outputs": [],
   "source": [
    "## one r tfidf\n",
    "\n",
    "one_r = DecisionTreeClassifier(max_depth=1)\n",
    "one_r = one_r.fit(x_tfidf_train, y_train)\n",
    "\n",
    "preds = one_r.predict(x_tfidf_train)\n",
    "mapper = label.fit_transform(preds)\n",
    "mapper = mapper.reshape(len(mapper),1)\n",
    "arr = onehot_encoder.fit_transform(mapper)\n",
    "preds = []\n",
    "for i in range(len(arr)):\n",
    "    for j in range(len(arr[i])):\n",
    "        if arr[i][j]==1:\n",
    "            preds.append(j)\n",
    "predictions_train.append(preds)\n",
    "\n",
    "preds = one_r.predict(x_tfidf_test)\n",
    "mapper = label.fit_transform(preds)\n",
    "mapper = mapper.reshape(len(mapper),1)\n",
    "arr = onehot_encoder.fit_transform(mapper)\n",
    "preds = []\n",
    "for i in range(len(arr)):\n",
    "    for j in range(len(arr[i])):\n",
    "        if arr[i][j]==1:\n",
    "            preds.append(j)\n",
    "predictions_test.append(preds)\n"
   ]
  },
  {
   "cell_type": "code",
   "execution_count": 212,
   "metadata": {},
   "outputs": [
    {
     "data": {
      "text/plain": [
       "0.5555555555555556"
      ]
     },
     "execution_count": 212,
     "metadata": {},
     "output_type": "execute_result"
    }
   ],
   "source": [
    "## stacker\n",
    "preds_train = pd.DataFrame(predictions_train).transpose()\n",
    "preds_train.columns = ['features_oner', 'features_tree', 'tfidf_oner']\n",
    "\n",
    "preds_test = pd.DataFrame(predictions_test).transpose()\n",
    "preds_test.columns = ['features_oner', 'features_tree', 'tfidf_oner']\n",
    "\n",
    "stacker = LogisticRegression()\n",
    "stacker = stacker.fit(preds_train, y_train)\n",
    "labels = stacker.predict(preds_test)\n",
    "f1_score(y_test, labels, average='micro')"
   ]
  }
 ],
 "metadata": {
  "kernelspec": {
   "display_name": "Python 3.8.10 64-bit",
   "language": "python",
   "name": "python3"
  },
  "language_info": {
   "codemirror_mode": {
    "name": "ipython",
    "version": 3
   },
   "file_extension": ".py",
   "mimetype": "text/x-python",
   "name": "python",
   "nbconvert_exporter": "python",
   "pygments_lexer": "ipython3",
   "version": "3.8.10"
  },
  "orig_nbformat": 4,
  "vscode": {
   "interpreter": {
    "hash": "916dbcbb3f70747c44a77c7bcd40155683ae19c65e1c03b4aa3499c5328201f1"
   }
  }
 },
 "nbformat": 4,
 "nbformat_minor": 2
}
